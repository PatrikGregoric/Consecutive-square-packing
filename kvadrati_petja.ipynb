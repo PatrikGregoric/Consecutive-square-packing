{
 "cells": [
  {
   "cell_type": "code",
   "execution_count": 3,
   "metadata": {},
   "outputs": [
    {
     "ename": "ModuleNotFoundError",
     "evalue": "No module named 'sage'",
     "output_type": "error",
     "traceback": [
      "\u001b[1;31m---------------------------------------------------------------------------\u001b[0m",
      "\u001b[1;31mModuleNotFoundError\u001b[0m                       Traceback (most recent call last)",
      "Cell \u001b[1;32mIn[3], line 1\u001b[0m\n\u001b[1;32m----> 1\u001b[0m \u001b[39mfrom\u001b[39;00m \u001b[39mkvadrati\u001b[39;00m \u001b[39mimport\u001b[39;00m Kvadrat\n",
      "File \u001b[1;32mc:\\Users\\petja\\OneDrive\\Dokumenti\\Faks\\letnik_3\\Consecutive-square-packing\\kvadrati.py:1\u001b[0m\n\u001b[1;32m----> 1\u001b[0m \u001b[39mfrom\u001b[39;00m \u001b[39msage\u001b[39;00m\u001b[39m.\u001b[39;00m\u001b[39mplot\u001b[39;00m\u001b[39m.\u001b[39;00m\u001b[39mpolygon\u001b[39;00m \u001b[39mimport\u001b[39;00m polygon\n\u001b[0;32m      4\u001b[0m \u001b[39mclass\u001b[39;00m \u001b[39mKvadrat\u001b[39;00m:\n\u001b[0;32m      6\u001b[0m     \u001b[39mdef\u001b[39;00m \u001b[39m__init__\u001b[39m(\u001b[39mself\u001b[39m, x, y, dolzina_stranice):\n",
      "\u001b[1;31mModuleNotFoundError\u001b[0m: No module named 'sage'"
     ]
    }
   ],
   "source": [
    "from kvadrati import Kvadrat\n"
   ]
  },
  {
   "cell_type": "code",
   "execution_count": 2,
   "metadata": {},
   "outputs": [
    {
     "ename": "NameError",
     "evalue": "name 'MixedIntegerLinearProgram' is not defined",
     "output_type": "error",
     "traceback": [
      "\u001b[1;31m---------------------------------------------------------------------------\u001b[0m",
      "\u001b[1;31mNameError\u001b[0m                                 Traceback (most recent call last)",
      "Cell \u001b[1;32mIn[2], line 2\u001b[0m\n\u001b[0;32m      1\u001b[0m \u001b[39m#PRVA VARJANTA\u001b[39;00m\n\u001b[1;32m----> 2\u001b[0m p \u001b[39m=\u001b[39m MixedIntegerLinearProgram(maximization \u001b[39m=\u001b[39m \u001b[39mFalse\u001b[39;00m)\n\u001b[0;32m      3\u001b[0m n \u001b[39m=\u001b[39m \u001b[39m3\u001b[39m\n\u001b[0;32m      4\u001b[0m KVADRATI_SEZ \u001b[39m=\u001b[39m []\n",
      "\u001b[1;31mNameError\u001b[0m: name 'MixedIntegerLinearProgram' is not defined"
     ]
    }
   ],
   "source": [
    "\n",
    "#PRVA VARJANTA\n",
    "p = MixedIntegerLinearProgram(maximization = False)\n",
    "n = 3\n",
    "KVADRATI_SEZ = []\n",
    "x = []\n",
    "y = []\n",
    "z1 = p.new_variable #dolzina stranice velikega kvadrata\n",
    "p.set_objective(z1) #zelim minimizirat , mi ILP ne poje \n",
    "for i in range(1,(n+1)):\n",
    "    ljala = p.new_variable\n",
    "    x.append(ljala)\n",
    "    tra = p.new_variable\n",
    "    y.append(tra)\n",
    "for i in range(1,(n+1)):\n",
    "    sez = [i,x[i-1],x[i-1]]\n",
    "    KVADRATI_SEZ.append(sez)\n",
    "#(dolzina, x,y)\n",
    "for kvadrat1 in KVADRATI_SEZ: #x + dolzina daljice <= dolzina velikega kvadrata \n",
    "    p.add_constraint(kvadrat1[1] + kvadrat1[2]  - z1 <= 0) #Tule je problem varible + cifra - varible \n",
    "    p.add_constraint(kvadrat1[1] + kvadrat1[2] - z1 <= 0) #Tule je problem \n",
    "for kvadrat1 in KVADRATI_SEZ:\n",
    "    for kvadrat2 in KVADRATI_SEZ:\n",
    "        Log = p.new_variable(binary=True)\n",
    "        Log = (kvadrat1[2] + kvadrat1[1] <= kvadrat2[2] or kvadrat1[3] + kvadrat1[1] <= kvadrat2[3] or kvadrat2[2] + kvadrat2[1] <= kvadrat1[2] or kvadrat2[3] + kvadrat2[1] <= kvadrat1[3] )\n",
    "        p.add_constraint(Log == 1)"
   ]
  }
 ],
 "metadata": {
  "kernelspec": {
   "display_name": "Python 3.8.10 64-bit (microsoft store)",
   "language": "python",
   "name": "python3"
  },
  "language_info": {
   "codemirror_mode": {
    "name": "ipython",
    "version": 3
   },
   "file_extension": ".py",
   "mimetype": "text/x-python",
   "name": "python",
   "nbconvert_exporter": "python",
   "pygments_lexer": "ipython3",
   "version": "3.8.10"
  },
  "orig_nbformat": 4,
  "vscode": {
   "interpreter": {
    "hash": "e0fc0eb36dd24060a4d47636e173809234e955441302b79f8568369fa32e02ab"
   }
  }
 },
 "nbformat": 4,
 "nbformat_minor": 2
}
